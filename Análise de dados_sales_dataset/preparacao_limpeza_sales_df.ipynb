{
 "cells": [
  {
   "cell_type": "markdown",
   "metadata": {},
   "source": [
    "Análise de Sales"
   ]
  },
  {
   "cell_type": "markdown",
   "metadata": {},
   "source": [
    "Abertura de Arquivo: "
   ]
  },
  {
   "cell_type": "code",
   "execution_count": 21,
   "metadata": {},
   "outputs": [],
   "source": [
    "import pandas as pd"
   ]
  },
  {
   "cell_type": "code",
   "execution_count": 22,
   "metadata": {},
   "outputs": [
    {
     "data": {
      "text/html": [
       "<div>\n",
       "<style scoped>\n",
       "    .dataframe tbody tr th:only-of-type {\n",
       "        vertical-align: middle;\n",
       "    }\n",
       "\n",
       "    .dataframe tbody tr th {\n",
       "        vertical-align: top;\n",
       "    }\n",
       "\n",
       "    .dataframe thead th {\n",
       "        text-align: right;\n",
       "    }\n",
       "</style>\n",
       "<table border=\"1\" class=\"dataframe\">\n",
       "  <thead>\n",
       "    <tr style=\"text-align: right;\">\n",
       "      <th></th>\n",
       "      <th>Order Date</th>\n",
       "      <th>Order ID</th>\n",
       "      <th>Product</th>\n",
       "      <th>Product_ean</th>\n",
       "      <th>catégorie</th>\n",
       "      <th>Purchase Address</th>\n",
       "      <th>Quantity Ordered</th>\n",
       "      <th>Price Each</th>\n",
       "      <th>Cost price</th>\n",
       "      <th>turnover</th>\n",
       "      <th>margin</th>\n",
       "    </tr>\n",
       "  </thead>\n",
       "  <tbody>\n",
       "    <tr>\n",
       "      <th>0</th>\n",
       "      <td>2019-01-22 21:25:00</td>\n",
       "      <td>141234</td>\n",
       "      <td>iPhone</td>\n",
       "      <td>5.638009e+12</td>\n",
       "      <td>Vêtements</td>\n",
       "      <td>944 Walnut St, Boston, MA 02215</td>\n",
       "      <td>1</td>\n",
       "      <td>700.00</td>\n",
       "      <td>231.0000</td>\n",
       "      <td>700.00</td>\n",
       "      <td>469.0000</td>\n",
       "    </tr>\n",
       "    <tr>\n",
       "      <th>1</th>\n",
       "      <td>2019-01-28 14:15:00</td>\n",
       "      <td>141235</td>\n",
       "      <td>Lightning Charging Cable</td>\n",
       "      <td>5.563320e+12</td>\n",
       "      <td>Alimentation</td>\n",
       "      <td>185 Maple St, Portland, OR 97035</td>\n",
       "      <td>1</td>\n",
       "      <td>14.95</td>\n",
       "      <td>7.4750</td>\n",
       "      <td>14.95</td>\n",
       "      <td>7.4750</td>\n",
       "    </tr>\n",
       "    <tr>\n",
       "      <th>2</th>\n",
       "      <td>2019-01-17 13:33:00</td>\n",
       "      <td>141236</td>\n",
       "      <td>Wired Headphones</td>\n",
       "      <td>2.113973e+12</td>\n",
       "      <td>Vêtements</td>\n",
       "      <td>538 Adams St, San Francisco, CA 94016</td>\n",
       "      <td>2</td>\n",
       "      <td>11.99</td>\n",
       "      <td>5.9950</td>\n",
       "      <td>23.98</td>\n",
       "      <td>11.9900</td>\n",
       "    </tr>\n",
       "    <tr>\n",
       "      <th>3</th>\n",
       "      <td>2019-01-05 20:33:00</td>\n",
       "      <td>141237</td>\n",
       "      <td>27in FHD Monitor</td>\n",
       "      <td>3.069157e+12</td>\n",
       "      <td>Sports</td>\n",
       "      <td>738 10th St, Los Angeles, CA 90001</td>\n",
       "      <td>1</td>\n",
       "      <td>149.99</td>\n",
       "      <td>97.4935</td>\n",
       "      <td>149.99</td>\n",
       "      <td>52.4965</td>\n",
       "    </tr>\n",
       "    <tr>\n",
       "      <th>4</th>\n",
       "      <td>2019-01-25 11:59:00</td>\n",
       "      <td>141238</td>\n",
       "      <td>Wired Headphones</td>\n",
       "      <td>9.692681e+12</td>\n",
       "      <td>Électronique</td>\n",
       "      <td>387 10th St, Austin, TX 73301</td>\n",
       "      <td>1</td>\n",
       "      <td>11.99</td>\n",
       "      <td>5.9950</td>\n",
       "      <td>11.99</td>\n",
       "      <td>5.9950</td>\n",
       "    </tr>\n",
       "  </tbody>\n",
       "</table>\n",
       "</div>"
      ],
      "text/plain": [
       "            Order Date  Order ID                   Product   Product_ean  \\\n",
       "0  2019-01-22 21:25:00    141234                    iPhone  5.638009e+12   \n",
       "1  2019-01-28 14:15:00    141235  Lightning Charging Cable  5.563320e+12   \n",
       "2  2019-01-17 13:33:00    141236          Wired Headphones  2.113973e+12   \n",
       "3  2019-01-05 20:33:00    141237          27in FHD Monitor  3.069157e+12   \n",
       "4  2019-01-25 11:59:00    141238          Wired Headphones  9.692681e+12   \n",
       "\n",
       "      catégorie                       Purchase Address  Quantity Ordered  \\\n",
       "0     Vêtements        944 Walnut St, Boston, MA 02215                 1   \n",
       "1  Alimentation       185 Maple St, Portland, OR 97035                 1   \n",
       "2     Vêtements  538 Adams St, San Francisco, CA 94016                 2   \n",
       "3        Sports     738 10th St, Los Angeles, CA 90001                 1   \n",
       "4  Électronique          387 10th St, Austin, TX 73301                 1   \n",
       "\n",
       "   Price Each  Cost price  turnover    margin  \n",
       "0      700.00    231.0000    700.00  469.0000  \n",
       "1       14.95      7.4750     14.95    7.4750  \n",
       "2       11.99      5.9950     23.98   11.9900  \n",
       "3      149.99     97.4935    149.99   52.4965  \n",
       "4       11.99      5.9950     11.99    5.9950  "
      ]
     },
     "execution_count": 22,
     "metadata": {},
     "output_type": "execute_result"
    }
   ],
   "source": [
    "\n",
    "sales_df = pd.read_csv(r'C:\\Users\\luiza\\Downloads\\sales_kaggle\\sales_data.csv')\n",
    "sales_df.head()\n"
   ]
  },
  {
   "cell_type": "code",
   "execution_count": 23,
   "metadata": {},
   "outputs": [
    {
     "data": {
      "text/plain": [
       "2045450"
      ]
     },
     "execution_count": 23,
     "metadata": {},
     "output_type": "execute_result"
    }
   ],
   "source": [
    "sales_tamanho_range = sales_df.size\n",
    "sales_tamanho_range"
   ]
  },
  {
   "cell_type": "code",
   "execution_count": 24,
   "metadata": {},
   "outputs": [
    {
     "data": {
      "text/plain": [
       "Order Date          0\n",
       "Order ID            0\n",
       "Product             0\n",
       "Product_ean         0\n",
       "catégorie           0\n",
       "Purchase Address    0\n",
       "Quantity Ordered    0\n",
       "Price Each          0\n",
       "Cost price          0\n",
       "turnover            0\n",
       "margin              0\n",
       "dtype: int64"
      ]
     },
     "execution_count": 24,
     "metadata": {},
     "output_type": "execute_result"
    }
   ],
   "source": [
    "contagem_de_nulos = sales_df.isnull().sum()\n",
    "contagem_de_nulos"
   ]
  },
  {
   "cell_type": "code",
   "execution_count": 25,
   "metadata": {},
   "outputs": [
    {
     "data": {
      "text/plain": [
       "0         False\n",
       "1         False\n",
       "2         False\n",
       "3         False\n",
       "4         False\n",
       "          ...  \n",
       "185945    False\n",
       "185946    False\n",
       "185947    False\n",
       "185948    False\n",
       "185949    False\n",
       "Length: 185950, dtype: bool"
      ]
     },
     "execution_count": 25,
     "metadata": {},
     "output_type": "execute_result"
    }
   ],
   "source": [
    "duplicatas_sales = sales_df.duplicated()\n",
    "duplicatas_sales"
   ]
  },
  {
   "cell_type": "code",
   "execution_count": 26,
   "metadata": {},
   "outputs": [
    {
     "data": {
      "text/plain": [
       "Index(['Order Date', 'Order ID', 'Product', 'Product_ean', 'catégorie',\n",
       "       'Purchase Address', 'Quantity Ordered', 'Price Each', 'Cost price',\n",
       "       'turnover', 'margin'],\n",
       "      dtype='object')"
      ]
     },
     "execution_count": 26,
     "metadata": {},
     "output_type": "execute_result"
    }
   ],
   "source": [
    "colunas_sales_df = sales_df.columns\n",
    "colunas_sales_df"
   ]
  },
  {
   "cell_type": "code",
   "execution_count": 27,
   "metadata": {},
   "outputs": [
    {
     "data": {
      "text/plain": [
       "Index(['Data', 'ID', 'Produto', 'Codigo(produto)', 'Categoria',\n",
       "       'Recebido(local)', 'Quantidade(pedidos)', 'Total(valor_produto)',\n",
       "       'Valor(produto)', 'Turnover(ativos)', 'Margem(lucro)'],\n",
       "      dtype='object')"
      ]
     },
     "execution_count": 27,
     "metadata": {},
     "output_type": "execute_result"
    }
   ],
   "source": [
    "novas_colunas = {'Order Date': 'Data',\n",
    "                      'Order ID': 'ID', \n",
    "                       'Product' :'Produto',\n",
    "                        'Product_ean':'Codigo(produto)',\n",
    "                        'catégorie':'Categoria',\n",
    "                        'Purchase Address':'Recebido(local)',\n",
    "                        'Quantity Ordered':'Quantidade(pedidos)',\n",
    "                        'Price Each':'Total(valor_produto)',\n",
    "                        'Cost price':'Valor(produto)',\n",
    "                        'turnover':'Turnover(ativos)',\n",
    "                        'margin':'Margem(lucro)'\n",
    "\n",
    "                        }\n",
    "\n",
    "sales_df.rename(columns= novas_colunas, inplace=True)\n",
    "columns_sales_df = sales_df.columns\n",
    "columns_sales_df"
   ]
  },
  {
   "cell_type": "code",
   "execution_count": 28,
   "metadata": {},
   "outputs": [
    {
     "name": "stdout",
     "output_type": "stream",
     "text": [
      "<class 'pandas.core.frame.DataFrame'>\n",
      "RangeIndex: 185950 entries, 0 to 185949\n",
      "Data columns (total 11 columns):\n",
      " #   Column                Non-Null Count   Dtype  \n",
      "---  ------                --------------   -----  \n",
      " 0   Data                  185950 non-null  object \n",
      " 1   ID                    185950 non-null  int64  \n",
      " 2   Produto               185950 non-null  object \n",
      " 3   Codigo(produto)       185950 non-null  float64\n",
      " 4   Categoria             185950 non-null  object \n",
      " 5   Recebido(local)       185950 non-null  object \n",
      " 6   Quantidade(pedidos)   185950 non-null  int64  \n",
      " 7   Total(valor_produto)  185950 non-null  float64\n",
      " 8   Valor(produto)        185950 non-null  float64\n",
      " 9   Turnover(ativos)      185950 non-null  float64\n",
      " 10  Margem(lucro)         185950 non-null  float64\n",
      "dtypes: float64(5), int64(2), object(4)\n",
      "memory usage: 15.6+ MB\n"
     ]
    }
   ],
   "source": [
    "sales_info = sales_df.info()\n",
    "sales_info"
   ]
  },
  {
   "cell_type": "code",
   "execution_count": 29,
   "metadata": {},
   "outputs": [],
   "source": [
    "from datetime import datetime\n",
    "\n",
    "sales_df['Data'].dtype\n",
    "sales_df['Data'] = pd.to_datetime(sales_df['Data'])\n",
    "sales_df['Data'] = sales_df['Data'].dt.date\n"
   ]
  },
  {
   "cell_type": "code",
   "execution_count": 30,
   "metadata": {},
   "outputs": [
    {
     "data": {
      "text/plain": [
       "<bound method NDFrame.head of              Data      ID                     Produto  Codigo(produto)  \\\n",
       "0      2019-01-22  141234                      iPhone     5.638009e+12   \n",
       "1      2019-01-28  141235    Lightning Charging Cable     5.563320e+12   \n",
       "2      2019-01-17  141236            Wired Headphones     2.113973e+12   \n",
       "3      2019-01-05  141237            27in FHD Monitor     3.069157e+12   \n",
       "4      2019-01-25  141238            Wired Headphones     9.692681e+12   \n",
       "...           ...     ...                         ...              ...   \n",
       "185945 2019-12-11  319666    Lightning Charging Cable     6.545974e+12   \n",
       "185946 2019-12-01  319667       AA Batteries (4-pack)     5.352480e+12   \n",
       "185947 2019-12-09  319668             Vareebadd Phone     2.674213e+12   \n",
       "185948 2019-12-03  319669            Wired Headphones     5.216304e+12   \n",
       "185949 2019-12-21  319670  Bose SoundSport Headphones     8.081038e+12   \n",
       "\n",
       "           Categoria                         Recebido(local)  \\\n",
       "0          Vêtements         944 Walnut St, Boston, MA 02215   \n",
       "1       Alimentation        185 Maple St, Portland, OR 97035   \n",
       "2          Vêtements   538 Adams St, San Francisco, CA 94016   \n",
       "3             Sports      738 10th St, Los Angeles, CA 90001   \n",
       "4       Électronique           387 10th St, Austin, TX 73301   \n",
       "...              ...                                     ...   \n",
       "185945  Électronique  14 Madison St, San Francisco, CA 94016   \n",
       "185946  Électronique    549 Willow St, Los Angeles, CA 90001   \n",
       "185947  Alimentation        273 Wilson St, Seattle, WA 98101   \n",
       "185948  Alimentation          778 River St, Dallas, TX 75001   \n",
       "185949  Électronique  747 Chestnut St, Los Angeles, CA 90001   \n",
       "\n",
       "        Quantidade(pedidos)  Total(valor_produto)  Valor(produto)  \\\n",
       "0                         1                700.00        231.0000   \n",
       "1                         1                 14.95          7.4750   \n",
       "2                         2                 11.99          5.9950   \n",
       "3                         1                149.99         97.4935   \n",
       "4                         1                 11.99          5.9950   \n",
       "...                     ...                   ...             ...   \n",
       "185945                    1                 14.95          7.4750   \n",
       "185946                    2                  3.84          1.9200   \n",
       "185947                    1                400.00        132.0000   \n",
       "185948                    1                 11.99          5.9950   \n",
       "185949                    1                 99.99         49.9950   \n",
       "\n",
       "        Turnover(ativos)  Margem(lucro)  Mês  \n",
       "0                 700.00       469.0000    1  \n",
       "1                  14.95         7.4750    1  \n",
       "2                  23.98        11.9900    1  \n",
       "3                 149.99        52.4965    1  \n",
       "4                  11.99         5.9950    1  \n",
       "...                  ...            ...  ...  \n",
       "185945             14.95         7.4750   12  \n",
       "185946              7.68         3.8400   12  \n",
       "185947            400.00       268.0000   12  \n",
       "185948             11.99         5.9950   12  \n",
       "185949             99.99        49.9950   12  \n",
       "\n",
       "[185950 rows x 12 columns]>"
      ]
     },
     "execution_count": 30,
     "metadata": {},
     "output_type": "execute_result"
    }
   ],
   "source": [
    "sales_df['Data'] = pd.to_datetime(sales_df['Data'])\n",
    "sales_df['Mês'] = sales_df['Data'].dt.month\n",
    "sales_df.head"
   ]
  },
  {
   "cell_type": "code",
   "execution_count": 31,
   "metadata": {},
   "outputs": [
    {
     "name": "stderr",
     "output_type": "stream",
     "text": [
      "C:\\Users\\luiza\\AppData\\Local\\Temp\\ipykernel_23012\\1981763718.py:2: FutureWarning: Series.dt.weekofyear and Series.dt.week have been deprecated. Please use Series.dt.isocalendar().week instead.\n",
      "  sales_df['Semana'] = sales_df['Data'].dt.week\n"
     ]
    },
    {
     "data": {
      "text/plain": [
       "<bound method NDFrame.head of              Data      ID                     Produto  Codigo(produto)  \\\n",
       "0      2019-01-22  141234                      iPhone     5.638009e+12   \n",
       "1      2019-01-28  141235    Lightning Charging Cable     5.563320e+12   \n",
       "2      2019-01-17  141236            Wired Headphones     2.113973e+12   \n",
       "3      2019-01-05  141237            27in FHD Monitor     3.069157e+12   \n",
       "4      2019-01-25  141238            Wired Headphones     9.692681e+12   \n",
       "...           ...     ...                         ...              ...   \n",
       "185945 2019-12-11  319666    Lightning Charging Cable     6.545974e+12   \n",
       "185946 2019-12-01  319667       AA Batteries (4-pack)     5.352480e+12   \n",
       "185947 2019-12-09  319668             Vareebadd Phone     2.674213e+12   \n",
       "185948 2019-12-03  319669            Wired Headphones     5.216304e+12   \n",
       "185949 2019-12-21  319670  Bose SoundSport Headphones     8.081038e+12   \n",
       "\n",
       "           Categoria                         Recebido(local)  \\\n",
       "0          Vêtements         944 Walnut St, Boston, MA 02215   \n",
       "1       Alimentation        185 Maple St, Portland, OR 97035   \n",
       "2          Vêtements   538 Adams St, San Francisco, CA 94016   \n",
       "3             Sports      738 10th St, Los Angeles, CA 90001   \n",
       "4       Électronique           387 10th St, Austin, TX 73301   \n",
       "...              ...                                     ...   \n",
       "185945  Électronique  14 Madison St, San Francisco, CA 94016   \n",
       "185946  Électronique    549 Willow St, Los Angeles, CA 90001   \n",
       "185947  Alimentation        273 Wilson St, Seattle, WA 98101   \n",
       "185948  Alimentation          778 River St, Dallas, TX 75001   \n",
       "185949  Électronique  747 Chestnut St, Los Angeles, CA 90001   \n",
       "\n",
       "        Quantidade(pedidos)  Total(valor_produto)  Valor(produto)  \\\n",
       "0                         1                700.00        231.0000   \n",
       "1                         1                 14.95          7.4750   \n",
       "2                         2                 11.99          5.9950   \n",
       "3                         1                149.99         97.4935   \n",
       "4                         1                 11.99          5.9950   \n",
       "...                     ...                   ...             ...   \n",
       "185945                    1                 14.95          7.4750   \n",
       "185946                    2                  3.84          1.9200   \n",
       "185947                    1                400.00        132.0000   \n",
       "185948                    1                 11.99          5.9950   \n",
       "185949                    1                 99.99         49.9950   \n",
       "\n",
       "        Turnover(ativos)  Margem(lucro)  Mês  Semana  \n",
       "0                 700.00       469.0000    1       4  \n",
       "1                  14.95         7.4750    1       5  \n",
       "2                  23.98        11.9900    1       3  \n",
       "3                 149.99        52.4965    1       1  \n",
       "4                  11.99         5.9950    1       4  \n",
       "...                  ...            ...  ...     ...  \n",
       "185945             14.95         7.4750   12      50  \n",
       "185946              7.68         3.8400   12      48  \n",
       "185947            400.00       268.0000   12      50  \n",
       "185948             11.99         5.9950   12      49  \n",
       "185949             99.99        49.9950   12      51  \n",
       "\n",
       "[185950 rows x 13 columns]>"
      ]
     },
     "execution_count": 31,
     "metadata": {},
     "output_type": "execute_result"
    }
   ],
   "source": [
    "sales_df['Data'] = pd.to_datetime(sales_df['Data'])\n",
    "sales_df['Semana'] = sales_df['Data'].dt.week\n",
    "sales_df.head"
   ]
  },
  {
   "cell_type": "code",
   "execution_count": 32,
   "metadata": {},
   "outputs": [
    {
     "data": {
      "text/plain": [
       "<bound method NDFrame.head of             ID                   Produto     Categoria  \\\n",
       "7043    147963             Flatscreen TV  Alimentation   \n",
       "424     141647              20in Monitor  Électronique   \n",
       "423     141646  Lightning Charging Cable  Alimentation   \n",
       "3945    144994           ThinkPad Laptop  Alimentation   \n",
       "420     141644    AAA Batteries (4-pack)     Vêtements   \n",
       "...        ...                       ...           ...   \n",
       "164578  299125      USB-C Charging Cable     Vêtements   \n",
       "177326  311386  Apple Airpods Headphones  Électronique   \n",
       "172424  306655           ThinkPad Laptop        Sports   \n",
       "172586  306809        Macbook Pro Laptop        Sports   \n",
       "180627  314552    AAA Batteries (4-pack)  Alimentation   \n",
       "\n",
       "                                Recebido(local)  Quantidade(pedidos)  \\\n",
       "7043            655 Meadow St, Austin, TX 73301                    1   \n",
       "424            434 Sunset St, Atlanta, GA 30301                    1   \n",
       "423              678 Adams St, Dallas, TX 75001                    1   \n",
       "3945       903 Willow St, Los Angeles, CA 90001                    1   \n",
       "420              454 Main St, Seattle, WA 98101                    1   \n",
       "...                                         ...                  ...   \n",
       "164578  754 Hickory St, New York City, NY 10001                    1   \n",
       "177326     730 Pine St, San Francisco, CA 94016                    1   \n",
       "172424    431 Hickory St, Los Angeles, CA 90001                    1   \n",
       "172586            326 14th St, Dallas, TX 75001                    1   \n",
       "180627      541 4th St, San Francisco, CA 94016                    1   \n",
       "\n",
       "        Total(valor_produto)  Valor(produto)  Turnover(ativos)       Data  \\\n",
       "7043                  300.00         99.0000            300.00 2019-01-01   \n",
       "424                   109.99         71.4935            109.99 2019-01-01   \n",
       "423                    14.95          7.4750             14.95 2019-01-01   \n",
       "3945                  999.99        329.9967            999.99 2019-01-01   \n",
       "420                     2.99          1.4950              2.99 2019-01-01   \n",
       "...                      ...             ...               ...        ...   \n",
       "164578                 11.95          5.9750             11.95 2020-01-01   \n",
       "177326                150.00         97.5000            150.00 2020-01-01   \n",
       "172424                999.99        329.9967            999.99 2020-01-01   \n",
       "172586               1700.00        561.0000           1700.00 2020-01-01   \n",
       "180627                  2.99          1.4950              2.99 2020-01-01   \n",
       "\n",
       "        Mês  Semana  \n",
       "7043      1       1  \n",
       "424       1       1  \n",
       "423       1       1  \n",
       "3945      1       1  \n",
       "420       1       1  \n",
       "...     ...     ...  \n",
       "164578    1       1  \n",
       "177326    1       1  \n",
       "172424    1       1  \n",
       "172586    1       1  \n",
       "180627    1       1  \n",
       "\n",
       "[185950 rows x 11 columns]>"
      ]
     },
     "execution_count": 32,
     "metadata": {},
     "output_type": "execute_result"
    }
   ],
   "source": [
    "colunas_selecionadas = ['ID', 'Produto', 'Categoria', 'Recebido(local)', 'Quantidade(pedidos)', 'Total(valor_produto)', 'Valor(produto)', 'Turnover(ativos)', 'Data', 'Mês', 'Semana']\n",
    "sales_df = sales_df[colunas_selecionadas]\n",
    "sales_df = sales_df.sort_values(by='Data', ascending=True)\n",
    "sales_df.head"
   ]
  },
  {
   "cell_type": "code",
   "execution_count": 33,
   "metadata": {},
   "outputs": [],
   "source": [
    "import calendar\n",
    "meses = {1: 'Janeiro', 2: 'Fevereiro',\n",
    "          3: 'Março', 4: 'Abril',\n",
    "            5: 'Maio', 6: 'Junho',\n",
    "              7: 'Julho', 8:'Agosto',\n",
    "                9:'Setembro', 10:'Outubro',\n",
    "                  11:'Novembro',12:'Dezembro'}\n",
    "\n",
    "sales_df['Nome do Mês'] = sales_df['Mês'].map(meses)\n"
   ]
  },
  {
   "cell_type": "code",
   "execution_count": 34,
   "metadata": {},
   "outputs": [
    {
     "data": {
      "text/plain": [
       "<bound method NDFrame.head of             ID                   Produto     Categoria  \\\n",
       "7043    147963             Flatscreen TV  Alimentation   \n",
       "424     141647              20in Monitor  Électronique   \n",
       "423     141646  Lightning Charging Cable  Alimentation   \n",
       "3945    144994           ThinkPad Laptop  Alimentation   \n",
       "420     141644    AAA Batteries (4-pack)     Vêtements   \n",
       "...        ...                       ...           ...   \n",
       "164578  299125      USB-C Charging Cable     Vêtements   \n",
       "177326  311386  Apple Airpods Headphones  Électronique   \n",
       "172424  306655           ThinkPad Laptop        Sports   \n",
       "172586  306809        Macbook Pro Laptop        Sports   \n",
       "180627  314552    AAA Batteries (4-pack)  Alimentation   \n",
       "\n",
       "                                Recebido(local)  Quantidade(pedidos)  \\\n",
       "7043            655 Meadow St, Austin, TX 73301                    1   \n",
       "424            434 Sunset St, Atlanta, GA 30301                    1   \n",
       "423              678 Adams St, Dallas, TX 75001                    1   \n",
       "3945       903 Willow St, Los Angeles, CA 90001                    1   \n",
       "420              454 Main St, Seattle, WA 98101                    1   \n",
       "...                                         ...                  ...   \n",
       "164578  754 Hickory St, New York City, NY 10001                    1   \n",
       "177326     730 Pine St, San Francisco, CA 94016                    1   \n",
       "172424    431 Hickory St, Los Angeles, CA 90001                    1   \n",
       "172586            326 14th St, Dallas, TX 75001                    1   \n",
       "180627      541 4th St, San Francisco, CA 94016                    1   \n",
       "\n",
       "        Total(valor_produto)  Valor(produto)  Turnover(ativos)       Data  \\\n",
       "7043                  300.00         99.0000            300.00 2019-01-01   \n",
       "424                   109.99         71.4935            109.99 2019-01-01   \n",
       "423                    14.95          7.4750             14.95 2019-01-01   \n",
       "3945                  999.99        329.9967            999.99 2019-01-01   \n",
       "420                     2.99          1.4950              2.99 2019-01-01   \n",
       "...                      ...             ...               ...        ...   \n",
       "164578                 11.95          5.9750             11.95 2020-01-01   \n",
       "177326                150.00         97.5000            150.00 2020-01-01   \n",
       "172424                999.99        329.9967            999.99 2020-01-01   \n",
       "172586               1700.00        561.0000           1700.00 2020-01-01   \n",
       "180627                  2.99          1.4950              2.99 2020-01-01   \n",
       "\n",
       "        Mês  Semana Nome do Mês Dia da Semana Dia da Semana Traduzido  \n",
       "7043      1       1     Janeiro       Tuesday             Terça-feira  \n",
       "424       1       1     Janeiro       Tuesday             Terça-feira  \n",
       "423       1       1     Janeiro       Tuesday             Terça-feira  \n",
       "3945      1       1     Janeiro       Tuesday             Terça-feira  \n",
       "420       1       1     Janeiro       Tuesday             Terça-feira  \n",
       "...     ...     ...         ...           ...                     ...  \n",
       "164578    1       1     Janeiro     Wednesday            Quarta-feira  \n",
       "177326    1       1     Janeiro     Wednesday            Quarta-feira  \n",
       "172424    1       1     Janeiro     Wednesday            Quarta-feira  \n",
       "172586    1       1     Janeiro     Wednesday            Quarta-feira  \n",
       "180627    1       1     Janeiro     Wednesday            Quarta-feira  \n",
       "\n",
       "[185950 rows x 14 columns]>"
      ]
     },
     "execution_count": 34,
     "metadata": {},
     "output_type": "execute_result"
    }
   ],
   "source": [
    "sales_df['Data'] = pd.to_datetime(sales_df['Data'])\n",
    "sales_df['Dia da Semana'] = sales_df['Data'].dt.day_name()\n",
    "\n",
    "renomeando_nomes_da_semana = {'Sunday':'Domingo', 'Monday':'Segunda-feira',\n",
    "                              'Tuesday':'Terça-feira','Wednesday':'Quarta-feira','Thursday':'Quinta-feira',\n",
    "                              'Friday':'Sexta-feira','Saturday':'Sábado'}\n",
    "sales_df['Dia da Semana Traduzido'] = sales_df['Dia da Semana'].map(renomeando_nomes_da_semana)\n",
    "sales_df.head"
   ]
  },
  {
   "cell_type": "code",
   "execution_count": 35,
   "metadata": {},
   "outputs": [],
   "source": [
    "def extrair_cidade(endereco):\n",
    "    partes = endereco.split(',')\n",
    "    if len(partes) >= 2:\n",
    "        return partes[1].strip()\n",
    "    else:\n",
    "        return None\n",
    "\n",
    "\n",
    "sales_df['Recebido(cidade)'] = sales_df['Recebido(local)'].apply(extrair_cidade)\n"
   ]
  },
  {
   "cell_type": "code",
   "execution_count": 36,
   "metadata": {},
   "outputs": [
    {
     "data": {
      "text/plain": [
       "Index(['ID', 'Produto', 'Categoria', 'Recebido(local)', 'Recebido(cidade)',\n",
       "       'Quantidade(pedidos)', 'Total(valor_produto)', 'Valor(produto)',\n",
       "       'Turnover(ativos)', 'Data', 'Mês', 'Semana', 'Nome do Mês',\n",
       "       'Dia da Semana', 'Dia da Semana Traduzido'],\n",
       "      dtype='object')"
      ]
     },
     "execution_count": 36,
     "metadata": {},
     "output_type": "execute_result"
    }
   ],
   "source": [
    "colunas_selecionadas = ['ID', 'Produto', 'Categoria', 'Recebido(local)','Recebido(cidade)',\n",
    "                         'Quantidade(pedidos)', 'Total(valor_produto)', 'Valor(produto)', 'Turnover(ativos)',\n",
    "                           'Data', 'Mês', 'Semana','Nome do Mês','Dia da Semana','Dia da Semana Traduzido']\n",
    "sales_df = sales_df[colunas_selecionadas]\n",
    "sales_df.columns"
   ]
  }
 ],
 "metadata": {
  "kernelspec": {
   "display_name": "Python 3",
   "language": "python",
   "name": "python3"
  },
  "language_info": {
   "codemirror_mode": {
    "name": "ipython",
    "version": 3
   },
   "file_extension": ".py",
   "mimetype": "text/x-python",
   "name": "python",
   "nbconvert_exporter": "python",
   "pygments_lexer": "ipython3",
   "version": "3.11.4"
  },
  "orig_nbformat": 4
 },
 "nbformat": 4,
 "nbformat_minor": 2
}
